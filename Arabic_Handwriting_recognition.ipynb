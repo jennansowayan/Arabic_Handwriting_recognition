{
 "cells": [
  {
   "cell_type": "code",
   "execution_count": 1,
   "metadata": {},
   "outputs": [
    {
     "name": "stdout",
     "output_type": "stream",
     "text": [
      "total 16288\r\n",
      "drwxr-xr-x  37 ahmedaljmiai  staff   1.2K 27 Oct 21:23 \u001b[34m.\u001b[m\u001b[m\r\n",
      "drwxr-xr-x   8 ahmedaljmiai  staff   256B 27 Oct 22:40 \u001b[34m..\u001b[m\u001b[m\r\n",
      "drwxr-xr-x  12 ahmedaljmiai  staff   384B 27 Oct 13:48 \u001b[34m.git\u001b[m\u001b[m\r\n",
      "drwxr-xr-x   9 ahmedaljmiai  staff   288B 27 Oct 13:47 \u001b[34m1 alif\u001b[m\u001b[m\r\n",
      "drwxr-xr-x   4 ahmedaljmiai  staff   128B 27 Oct 13:47 \u001b[34m10 ra\u001b[m\u001b[m\r\n",
      "drwxr-xr-x   4 ahmedaljmiai  staff   128B 27 Oct 13:47 \u001b[34m11 zay\u001b[m\u001b[m\r\n",
      "drwxr-xr-x   6 ahmedaljmiai  staff   192B 27 Oct 13:47 \u001b[34m12 sin\u001b[m\u001b[m\r\n",
      "drwxr-xr-x   6 ahmedaljmiai  staff   192B 27 Oct 13:47 \u001b[34m13 shin\u001b[m\u001b[m\r\n",
      "drwxr-xr-x   6 ahmedaljmiai  staff   192B 27 Oct 13:47 \u001b[34m14 sad\u001b[m\u001b[m\r\n",
      "drwxr-xr-x   6 ahmedaljmiai  staff   192B 27 Oct 13:47 \u001b[34m15 dad\u001b[m\u001b[m\r\n",
      "drwxr-xr-x   6 ahmedaljmiai  staff   192B 27 Oct 13:47 \u001b[34m16 da\u001b[m\u001b[m\r\n",
      "drwxr-xr-x   6 ahmedaljmiai  staff   192B 27 Oct 13:47 \u001b[34m17 za\u001b[m\u001b[m\r\n",
      "drwxr-xr-x   6 ahmedaljmiai  staff   192B 27 Oct 13:47 \u001b[34m18 ayn\u001b[m\u001b[m\r\n",
      "drwxr-xr-x   6 ahmedaljmiai  staff   192B 27 Oct 13:47 \u001b[34m19 gayn\u001b[m\u001b[m\r\n",
      "drwxr-xr-x   6 ahmedaljmiai  staff   192B 27 Oct 13:47 \u001b[34m2 ba\u001b[m\u001b[m\r\n",
      "drwxr-xr-x   7 ahmedaljmiai  staff   224B 27 Oct 13:47 \u001b[34m20 fa\u001b[m\u001b[m\r\n",
      "drwxr-xr-x   6 ahmedaljmiai  staff   192B 27 Oct 13:47 \u001b[34m21 qaf\u001b[m\u001b[m\r\n",
      "drwxr-xr-x   6 ahmedaljmiai  staff   192B 27 Oct 13:47 \u001b[34m22 kaf\u001b[m\u001b[m\r\n",
      "drwxr-xr-x   6 ahmedaljmiai  staff   192B 27 Oct 13:47 \u001b[34m23 lam\u001b[m\u001b[m\r\n",
      "drwxr-xr-x   7 ahmedaljmiai  staff   224B 27 Oct 13:47 \u001b[34m24 mim\u001b[m\u001b[m\r\n",
      "drwxr-xr-x   6 ahmedaljmiai  staff   192B 27 Oct 13:47 \u001b[34m25 non\u001b[m\u001b[m\r\n",
      "drwxr-xr-x   6 ahmedaljmiai  staff   192B 27 Oct 13:47 \u001b[34m26 ha\u001b[m\u001b[m\r\n",
      "drwxr-xr-x   4 ahmedaljmiai  staff   128B 27 Oct 13:47 \u001b[34m27 waw\u001b[m\u001b[m\r\n",
      "drwxr-xr-x   6 ahmedaljmiai  staff   192B 27 Oct 13:47 \u001b[34m28 ya\u001b[m\u001b[m\r\n",
      "drwxr-xr-x   7 ahmedaljmiai  staff   224B 27 Oct 13:47 \u001b[34m29 hamza\u001b[m\u001b[m\r\n",
      "drwxr-xr-x   6 ahmedaljmiai  staff   192B 27 Oct 13:47 \u001b[34m3 ta\u001b[m\u001b[m\r\n",
      "drwxr-xr-x   6 ahmedaljmiai  staff   192B 27 Oct 13:47 \u001b[34m4 tha\u001b[m\u001b[m\r\n",
      "drwxr-xr-x   7 ahmedaljmiai  staff   224B 27 Oct 13:47 \u001b[34m5 gim\u001b[m\u001b[m\r\n",
      "drwxr-xr-x   6 ahmedaljmiai  staff   192B 27 Oct 13:47 \u001b[34m6 ha\u001b[m\u001b[m\r\n",
      "drwxr-xr-x   6 ahmedaljmiai  staff   192B 27 Oct 13:47 \u001b[34m7 kha\u001b[m\u001b[m\r\n",
      "drwxr-xr-x   4 ahmedaljmiai  staff   128B 27 Oct 13:48 \u001b[34m8 dal\u001b[m\u001b[m\r\n",
      "drwxr-xr-x   4 ahmedaljmiai  staff   128B 27 Oct 13:48 \u001b[34m9 thal\u001b[m\u001b[m\r\n",
      "drwxr-xr-x@  6 ahmedaljmiai  staff   192B 27 Oct 21:23 \u001b[34mCSV\u001b[m\u001b[m\r\n",
      "-rw-r--r--@  1 ahmedaljmiai  staff   7.9M 27 Oct 13:48 CSV.zip\r\n",
      "-rw-r--r--   1 ahmedaljmiai  staff   1.1K 27 Oct 13:48 README.md\r\n",
      "-rw-r--r--   1 ahmedaljmiai  staff    11K 27 Oct 13:48 letterStats.xlsx\r\n",
      "-rw-r--r--   1 ahmedaljmiai  staff   165B 27 Oct 13:48 ~$letterStats.xlsx\r\n"
     ]
    }
   ],
   "source": [
    "!ls -lah 'Hijja2/'"
   ]
  },
  {
   "cell_type": "code",
   "execution_count": 2,
   "metadata": {},
   "outputs": [
    {
     "name": "stdout",
     "output_type": "stream",
     "text": [
      "total 198440\r\n",
      "drwxr-xr-x@  6 ahmedaljmiai  staff   192B 27 Oct 21:23 \u001b[34m.\u001b[m\u001b[m\r\n",
      "drwxr-xr-x  37 ahmedaljmiai  staff   1.2K 27 Oct 21:23 \u001b[34m..\u001b[m\u001b[m\r\n",
      "-rw-r--r--@  1 ahmedaljmiai  staff    19M 27 May  2019 X_test.csv\r\n",
      "-rw-r--r--@  1 ahmedaljmiai  staff    77M 27 May  2019 X_train.csv\r\n",
      "-rw-r--r--@  1 ahmedaljmiai  staff    34K 27 May  2019 y_test.csv\r\n",
      "-rw-r--r--@  1 ahmedaljmiai  staff   136K 27 May  2019 y_train.csv\r\n"
     ]
    }
   ],
   "source": [
    "!ls -lah 'Hijja2/CSV'"
   ]
  },
  {
   "cell_type": "code",
   "execution_count": 3,
   "metadata": {},
   "outputs": [],
   "source": [
    "import pandas as pd\n",
    "import cv2\n",
    "import matplotlib\n",
    "import numpy as np\n",
    "from matplotlib import pyplot as plt\n",
    "from PIL import Image"
   ]
  },
  {
   "cell_type": "code",
   "execution_count": 4,
   "metadata": {},
   "outputs": [],
   "source": [
    "img = cv2.imread('Hijja2/1 alif/1.6/10040.png')"
   ]
  },
  {
   "cell_type": "code",
   "execution_count": null,
   "metadata": {},
   "outputs": [],
   "source": []
  },
  {
   "cell_type": "code",
   "execution_count": 5,
   "metadata": {},
   "outputs": [
    {
     "data": {
      "image/png": "[encoded data removed]",
      "text/plain": [
       "<Figure size 432x288 with 1 Axes>"
      ]
     },
     "metadata": {
      "needs_background": "light"
     },
     "output_type": "display_data"
    }
   ],
   "source": [
    "plt.imshow(img)\n",
    "plt.title('my picture')\n",
    "plt.show()"
   ]
  },
  {
   "cell_type": "code",
   "execution_count": 6,
   "metadata": {},
   "outputs": [],
   "source": [
    "X_train = pd.read_csv('Hijja2/CSV/X_train.csv')\n",
    "X_test = pd.read_csv('Hijja2/CSV/X_test.csv')"
   ]
  },
  {
   "cell_type": "code",
   "execution_count": 7,
   "metadata": {},
   "outputs": [],
   "source": [
    "y_train = pd.read_csv('Hijja2/CSV/y_train.csv')\n",
    "y_test = pd.read_csv('Hijja2/CSV/y_test.csv')"
   ]
  },
  {
   "cell_type": "code",
   "execution_count": 8,
   "metadata": {},
   "outputs": [
    {
     "data": {
      "text/plain": [
       "1024"
      ]
     },
     "execution_count": 8,
     "metadata": {},
     "output_type": "execute_result"
    }
   ],
   "source": [
    "len(X_train.iloc[100].to_numpy())"
   ]
  },
  {
   "cell_type": "code",
   "execution_count": 9,
   "metadata": {},
   "outputs": [
    {
     "data": {
      "text/plain": [
       "1024"
      ]
     },
     "execution_count": 9,
     "metadata": {},
     "output_type": "execute_result"
    }
   ],
   "source": [
    "32*32"
   ]
  },
  {
   "cell_type": "code",
   "execution_count": 10,
   "metadata": {},
   "outputs": [
    {
     "data": {
      "text/plain": [
       "label    1\n",
       "Name: 33, dtype: int64"
      ]
     },
     "execution_count": 10,
     "metadata": {},
     "output_type": "execute_result"
    }
   ],
   "source": [
    "y_train.iloc[33]"
   ]
  },
  {
   "cell_type": "code",
   "execution_count": 11,
   "metadata": {},
   "outputs": [],
   "source": [
    "im = X_train.iloc[33].to_numpy().reshape(32,32)"
   ]
  },
  {
   "cell_type": "code",
   "execution_count": 12,
   "metadata": {},
   "outputs": [
    {
     "data": {
      "text/plain": [
       "<matplotlib.image.AxesImage at 0x7fb37e7ebd68>"
      ]
     },
     "execution_count": 12,
     "metadata": {},
     "output_type": "execute_result"
    },
    {
     "data": {
      "image/png": "[encoded data removed]",
      "text/plain": [
       "<Figure size 432x288 with 1 Axes>"
      ]
     },
     "metadata": {
      "needs_background": "light"
     },
     "output_type": "display_data"
    }
   ],
   "source": [
    "plt.imshow(im)"
   ]
  },
  {
   "cell_type": "code",
   "execution_count": 13,
   "metadata": {},
   "outputs": [],
   "source": [
    "img = Image.fromarray((im).astype(np.uint8))"
   ]
  },
  {
   "cell_type": "code",
   "execution_count": 14,
   "metadata": {},
   "outputs": [
    {
     "data": {
      "image/png": "[encoded data removed]",
      "text/plain": [
       "<PIL.Image.Image image mode=L size=32x32 at 0x7FB366E436D8>"
      ]
     },
     "execution_count": 14,
     "metadata": {},
     "output_type": "execute_result"
    }
   ],
   "source": [
    "img"
   ]
  },
  {
   "cell_type": "code",
   "execution_count": null,
   "metadata": {},
   "outputs": [],
   "source": []
  },
  {
   "cell_type": "code",
   "execution_count": null,
   "metadata": {},
   "outputs": [],
   "source": []
  },
  {
   "cell_type": "code",
   "execution_count": null,
   "metadata": {},
   "outputs": [],
   "source": []
  },
  {
   "cell_type": "code",
   "execution_count": null,
   "metadata": {},
   "outputs": [],
   "source": []
  },
  {
   "cell_type": "code",
   "execution_count": null,
   "metadata": {},
   "outputs": [],
   "source": []
  },
  {
   "cell_type": "code",
   "execution_count": 15,
   "metadata": {},
   "outputs": [],
   "source": [
    "from sklearn.neighbors import KNeighborsClassifier\n"
   ]
  },
  {
   "cell_type": "code",
   "execution_count": 16,
   "metadata": {},
   "outputs": [],
   "source": [
    "neigh = KNeighborsClassifier(n_neighbors=3)"
   ]
  },
  {
   "cell_type": "code",
   "execution_count": 17,
   "metadata": {},
   "outputs": [
    {
     "name": "stderr",
     "output_type": "stream",
     "text": [
      "/Users/ahmedaljmiai/opt/anaconda3/envs/cv4py37r/lib/python3.7/site-packages/ipykernel_launcher.py:1: DataConversionWarning: A column-vector y was passed when a 1d array was expected. Please change the shape of y to (n_samples, ), for example using ravel().\n",
      "  \"\"\"Entry point for launching an IPython kernel.\n"
     ]
    },
    {
     "data": {
      "text/plain": [
       "KNeighborsClassifier(algorithm='auto', leaf_size=30, metric='minkowski',\n",
       "                     metric_params=None, n_jobs=None, n_neighbors=3, p=2,\n",
       "                     weights='uniform')"
      ]
     },
     "execution_count": 17,
     "metadata": {},
     "output_type": "execute_result"
    }
   ],
   "source": [
    "neigh.fit(X_train, y_train)"
   ]
  },
  {
   "cell_type": "code",
   "execution_count": null,
   "metadata": {},
   "outputs": [],
   "source": []
  },
  {
   "cell_type": "code",
   "execution_count": 22,
   "metadata": {},
   "outputs": [],
   "source": [
    "b = neigh.predict(X_test[:100])"
   ]
  },
  {
   "cell_type": "code",
   "execution_count": 23,
   "metadata": {},
   "outputs": [
    {
     "name": "stdout",
     "output_type": "stream",
     "text": [
      "[ 1  1  1  1  1  1  1  1  1  1  1  1  1  1  1  1  1  1  1  1  1  1  1  1\n",
      "  1  1  1  1  1  1  1  1  1  1  1  1  1  1  1  1  1  1  1  1  1  1  1  1\n",
      "  1  1  1  1  1  1  1  1  5  1  1  1  1  2  1  1  1  1  1  1  1  9  1  1\n",
      "  1  1  1  1  1  1 23  1  1  1  1  1  1  1  1  1  2  1  1  1  1  1  1  1\n",
      "  1  1  1  1]\n"
     ]
    }
   ],
   "source": [
    "print(b)"
   ]
  },
  {
   "cell_type": "code",
   "execution_count": 24,
   "metadata": {},
   "outputs": [],
   "source": [
    "from sklearn import metrics"
   ]
  },
  {
   "cell_type": "code",
   "execution_count": 25,
   "metadata": {},
   "outputs": [
    {
     "data": {
      "text/plain": [
       "0.95"
      ]
     },
     "execution_count": 25,
     "metadata": {},
     "output_type": "execute_result"
    }
   ],
   "source": [
    "metrics.accuracy_score(y_test[:100], b)"
   ]
  },
  {
   "cell_type": "code",
   "execution_count": 26,
   "metadata": {},
   "outputs": [
    {
     "data": {
      "text/plain": [
       "array([[95,  2,  1,  1,  1],\n",
       "       [ 0,  0,  0,  0,  0],\n",
       "       [ 0,  0,  0,  0,  0],\n",
       "       [ 0,  0,  0,  0,  0],\n",
       "       [ 0,  0,  0,  0,  0]])"
      ]
     },
     "execution_count": 26,
     "metadata": {},
     "output_type": "execute_result"
    }
   ],
   "source": [
    "metrics.confusion_matrix(y_test[:100], b)"
   ]
  },
  {
   "cell_type": "code",
   "execution_count": 27,
   "metadata": {},
   "outputs": [
    {
     "name": "stdout",
     "output_type": "stream",
     "text": [
      "              precision    recall  f1-score   support\n",
      "\n",
      "           1       1.00      0.95      0.97       100\n",
      "           2       0.00      0.00      0.00         0\n",
      "           5       0.00      0.00      0.00         0\n",
      "           9       0.00      0.00      0.00         0\n",
      "          23       0.00      0.00      0.00         0\n",
      "\n",
      "    accuracy                           0.95       100\n",
      "   macro avg       0.20      0.19      0.19       100\n",
      "weighted avg       1.00      0.95      0.97       100\n",
      "\n"
     ]
    },
    {
     "name": "stderr",
     "output_type": "stream",
     "text": [
      "/Users/ahmedaljmiai/opt/anaconda3/envs/cv4py37r/lib/python3.7/site-packages/sklearn/metrics/_classification.py:1272: UndefinedMetricWarning: Recall and F-score are ill-defined and being set to 0.0 in labels with no true samples. Use `zero_division` parameter to control this behavior.\n",
      "  _warn_prf(average, modifier, msg_start, len(result))\n"
     ]
    }
   ],
   "source": [
    "print(metrics.classification_report(y_test[:100], b))"
   ]
  },
  {
   "cell_type": "code",
   "execution_count": null,
   "metadata": {},
   "outputs": [],
   "source": []
  }
 ],
 "metadata": {
  "kernelspec": {
   "display_name": "cv4py37r",
   "language": "python",
   "name": "cv4py37r"
  },
  "language_info": {
   "codemirror_mode": {
    "name": "ipython",
    "version": 3
   },
   "file_extension": ".py",
   "mimetype": "text/x-python",
   "name": "python",
   "nbconvert_exporter": "python",
   "pygments_lexer": "ipython3",
   "version": "3.7.3"
  }
 },
 "nbformat": 4,
 "nbformat_minor": 2
}
